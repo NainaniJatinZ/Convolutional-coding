{
 "cells": [
  {
   "cell_type": "markdown",
   "metadata": {
    "colab_type": "text",
    "id": "2FEOlTQEX9uu"
   },
   "source": [
    "# Implementation of Convolutional Encoder and Decoder for Bit-rate $\\approx\\frac{1}{2}$ with 2-PAM Modulation Scheme\n",
    "\n",
    "Video References:\n",
    "1. [Introduction to Convolutional Encoder](https://www.youtube.com/watch?v=AnyVu5eDhAQ&t=2734s)\n",
    "2. [Viterbi Decoder](https://www.youtube.com/watch?v=z1MdvYu2ZHk&t=2171s)\n",
    "\n",
    "The following implementation is done for Bit-Rate $\\approx \\frac{1}{2}$. The Convolutional Encoder is written for desired for any no.of Memory Units but The Convolutional Decoder, implemented using Viterbi's Algorithm is done for 2 Memory Units for simplicity."
   ]
  },
  {
   "cell_type": "markdown",
   "metadata": {
    "colab_type": "text",
    "id": "aJS4rfnWYx0N"
   },
   "source": [
    "## Importing Libraries"
   ]
  },
  {
   "cell_type": "code",
   "execution_count": 3,
   "metadata": {
    "colab": {},
    "colab_type": "code",
    "id": "dCE-bxXWY0KT"
   },
   "outputs": [],
   "source": [
    "import numpy as np\n",
    "import matplotlib.pyplot as plt\n",
    "import scipy\n",
    "from skimage.color import rgb2gray\n",
    "from PIL import Image\n",
    "import math\n",
    "from sklearn.metrics import mean_squared_error"
   ]
  },
  {
   "cell_type": "markdown",
   "metadata": {
    "colab_type": "text",
    "id": "Pq6lVqwtlXIK"
   },
   "source": [
    "## Binary Image"
   ]
  },
  {
   "cell_type": "code",
   "execution_count": 5,
   "metadata": {
    "colab": {
     "base_uri": "https://localhost:8080/",
     "height": 287
    },
    "colab_type": "code",
    "id": "qlBlNPIFlatY",
    "outputId": "09b360e5-b8c7-4d6f-b88c-1f672a4c7cc6"
   },
   "outputs": [
    {
     "data": {
      "text/plain": [
       "<matplotlib.image.AxesImage at 0x1dced89b310>"
      ]
     },
     "execution_count": 5,
     "metadata": {},
     "output_type": "execute_result"
    },
    {
     "data": {
      "image/png": "[encoded data removed]",
      "text/plain": [
       "<Figure size 432x288 with 1 Axes>"
      ]
     },
     "metadata": {
      "needs_background": "light"
     },
     "output_type": "display_data"
    }
   ],
   "source": [
    "Data = np.load('./data/Goku.npy')\n",
    "plt.imshow(Data,cmap='gray')"
   ]
  },
  {
   "cell_type": "code",
   "execution_count": 3,
   "metadata": {
    "colab": {
     "base_uri": "https://localhost:8080/",
     "height": 35
    },
    "colab_type": "code",
    "id": "WGL7H16R-zN9",
    "outputId": "cb575e7b-854c-47bc-9b9b-877a023a132c"
   },
   "outputs": [
    {
     "data": {
      "text/plain": [
       "30000"
      ]
     },
     "execution_count": 3,
     "metadata": {},
     "output_type": "execute_result"
    }
   ],
   "source": [
    "Data.shape[0] * Data.shape[1]"
   ]
  },
  {
   "cell_type": "markdown",
   "metadata": {
    "colab_type": "text",
    "id": "5GsoTVnexhs0"
   },
   "source": [
    "### Parameters"
   ]
  },
  {
   "cell_type": "code",
   "execution_count": 4,
   "metadata": {
    "colab": {},
    "colab_type": "code",
    "id": "WHvjGLOSxkGS"
   },
   "outputs": [],
   "source": [
    "Variance = 10\n",
    "N = 50\n",
    "T = 1e-3\n",
    "fc = 20000\n",
    "mu = 2\n",
    "n = 2"
   ]
  },
  {
   "cell_type": "markdown",
   "metadata": {
    "colab_type": "text",
    "id": "WClGPVocaTgM"
   },
   "source": [
    "## Convolutional Encoder\n",
    "\n",
    "Specification of Block Diagram:\n",
    "1. No.of Input Bits = 1\n",
    "2. No.of Outputs Bits($n$) = 2\n",
    "3. No.of Memory Units($\\mu$) = 2\n",
    "\n",
    "So, for a $k$ input bits we will get\n",
    "$N = n(k+\\mu)$ output bits.\n",
    "\n",
    "For $\\mu = 2$,\n",
    "Data stored in Memory Elements is none other than $x[n-1]$ and $x[n-2]$ respectively from left to right.\n",
    "\n",
    "#### **Image of Convolutional Encoder with 2 Memory Units**\n",
    "<img src=\"./Images/Convolutional_Encoder_mu=2_Type-1.png\">\n"
   ]
  },
  {
   "cell_type": "code",
   "execution_count": 5,
   "metadata": {
    "colab": {},
    "colab_type": "code",
    "id": "mynxM65Lk4-1"
   },
   "outputs": [],
   "source": [
    "def ConvEncoder(BitStream,mu,n):\n",
    "    k = BitStream.shape[0]\n",
    "    TeriBits = np.zeros(mu,)\n",
    "    U = np.zeros((mu,),dtype=int)\n",
    "    OutputStream = np.zeros(((k+mu),2))\n",
    "\n",
    "    Input = np.append(BitStream,TeriBits)\n",
    "\n",
    "    for i in range(Input.shape[0]):\n",
    "        a = U[0]\n",
    "        b = U[1]\n",
    "        c = int(Input[i])\n",
    "\n",
    "        v1 = c ^ a\n",
    "        v2 = c ^ a ^ b\n",
    "        OutputStream[i] = np.array([v2,v1])\n",
    "        \n",
    "        U[0] = c\n",
    "        U[1] = a\n",
    "\n",
    "    return OutputStream"
   ]
  },
  {
   "cell_type": "code",
   "execution_count": 6,
   "metadata": {
    "colab": {
     "base_uri": "https://localhost:8080/",
     "height": 35
    },
    "colab_type": "code",
    "id": "IEY6caugnTMs",
    "outputId": "21078d9f-f994-4845-f41c-0bb0bc9d32da"
   },
   "outputs": [],
   "source": [
    "EncodedStream = ConvEncoder(Data.flatten(),mu,n)"
   ]
  },
  {
   "cell_type": "markdown",
   "metadata": {
    "colab_type": "text",
    "id": "61x5th5qsACB"
   },
   "source": [
    "## Modulation Scheme\n",
    "\n",
    "Applying 2-PAM Modulation on Data Stream."
   ]
  },
  {
   "cell_type": "code",
   "execution_count": 7,
   "metadata": {
    "colab": {},
    "colab_type": "code",
    "id": "g1bQNjTzr_0S"
   },
   "outputs": [],
   "source": [
    "def PAM2Encoder(EncodedStream):\n",
    "    S1 = np.where(EncodedStream == 1,EncodedStream, -1)\n",
    "    return S1"
   ]
  },
  {
   "cell_type": "code",
   "execution_count": 8,
   "metadata": {
    "colab": {},
    "colab_type": "code",
    "id": "F30JdRr9s83d"
   },
   "outputs": [],
   "source": [
    "ModulatedStream = PAM2Encoder(EncodedStream)"
   ]
  },
  {
   "cell_type": "markdown",
   "metadata": {
    "colab_type": "text",
    "id": "D1aNHN9IuET3"
   },
   "source": [
    "## Transmission\n",
    "\n",
    "Transmitting Signal as $\\sqrt2 cos(2\\pi f_{c}t)$ and $-\\sqrt2 cos(2\\pi f_{c}t)$ for a span of $T$ seconds. Energy of Transmitted Signals are equal to $T$"
   ]
  },
  {
   "cell_type": "code",
   "execution_count": 9,
   "metadata": {
    "colab": {},
    "colab_type": "code",
    "id": "9nPCqFxbs_vH"
   },
   "outputs": [],
   "source": [
    "def Transmission(ModulatedStream,T,fc,N):\n",
    "    S = np.sqrt(2)*np.cos(2*np.pi*fc*np.linspace(0,T,N))\n",
    "    l,m = ModulatedStream.shape\n",
    "    n = S.shape[0]\n",
    "    Output = np.zeros((l,m,n))\n",
    "\n",
    "    for i in range(l):\n",
    "        for j in range(m):\n",
    "            Output[i][j] = ModulatedStream[i][j] * S\n",
    "\n",
    "    return Output"
   ]
  },
  {
   "cell_type": "code",
   "execution_count": 10,
   "metadata": {
    "colab": {},
    "colab_type": "code",
    "id": "vTLjveqCv1GH"
   },
   "outputs": [],
   "source": [
    "TransmittedStream = Transmission(ModulatedStream,T,fc,N)"
   ]
  },
  {
   "cell_type": "markdown",
   "metadata": {
    "colab_type": "text",
    "id": "9YZmyylHw-UJ"
   },
   "source": [
    "## Receiving Data\n",
    "\n",
    "AWGN (Additive White Gaussian Noise) is added to Transmitted Signals"
   ]
  },
  {
   "cell_type": "code",
   "execution_count": 11,
   "metadata": {
    "colab": {},
    "colab_type": "code",
    "id": "_mS6RRyBxGP2"
   },
   "outputs": [],
   "source": [
    "def ReceivingData(TransmittedStream,Variance):\n",
    "    l,m,n = TransmittedStream.shape\n",
    "    Output = np.zeros(TransmittedStream.shape)\n",
    "    for i in range(l):\n",
    "        for j in range(m):\n",
    "            Output[i][j] = TransmittedStream[i][j] + np.random.normal(0,np.sqrt(Variance),size=n)\n",
    "\n",
    "    return Output"
   ]
  },
  {
   "cell_type": "code",
   "execution_count": 12,
   "metadata": {
    "colab": {},
    "colab_type": "code",
    "id": "MjvSOWJ42Mlu"
   },
   "outputs": [],
   "source": [
    "ReceivedStream = ReceivingData(TransmittedStream,Variance)"
   ]
  },
  {
   "cell_type": "markdown",
   "metadata": {
    "colab_type": "text",
    "id": "3ClAgoNX2hu1"
   },
   "source": [
    "## DeModulation\n",
    "\n",
    "Obtained Waveforms are DeModulated."
   ]
  },
  {
   "cell_type": "code",
   "execution_count": 13,
   "metadata": {
    "colab": {},
    "colab_type": "code",
    "id": "2ayW-CYm5Q_P"
   },
   "outputs": [],
   "source": [
    "def PAM2Waveforms(T,N,fc):\n",
    "    Waveforms = np.zeros((2,N))\n",
    "\n",
    "    Waveforms[0] = -np.sqrt(2)*np.cos(2*np.pi*fc*np.linspace(0,T,N))\n",
    "    Waveforms[1] = np.sqrt(2)*np.cos(2*np.pi*fc*np.linspace(0,T,N))\n",
    "\n",
    "    return Waveforms\n",
    "\n",
    "Waveforms = PAM2Waveforms(T,N,fc)"
   ]
  },
  {
   "cell_type": "code",
   "execution_count": 14,
   "metadata": {
    "colab": {},
    "colab_type": "code",
    "id": "zE-eyhlI2j_c"
   },
   "outputs": [],
   "source": [
    "def DeModulation(ReceivedStream,Waveforms):\n",
    "\n",
    "    Output = np.zeros((ReceivedStream.shape[0],ReceivedStream.shape[1]))\n",
    "\n",
    "    for i in range(ReceivedStream.shape[0]):\n",
    "        for j in range(ReceivedStream.shape[1]):\n",
    "            Output[i][j] = np.argmin(np.sum(np.multiply((ReceivedStream[i][j] - Waveforms),(ReceivedStream[i][j] - Waveforms)),axis=1))\n",
    "\n",
    "    return Output           "
   ]
  },
  {
   "cell_type": "code",
   "execution_count": 15,
   "metadata": {
    "colab": {},
    "colab_type": "code",
    "id": "9J_oPyFG6a4O"
   },
   "outputs": [],
   "source": [
    "DeModulatedStream = DeModulation(ReceivedStream,Waveforms)"
   ]
  },
  {
   "cell_type": "markdown",
   "metadata": {
    "colab": {
     "base_uri": "https://localhost:8080/",
     "height": 143
    },
    "colab_type": "code",
    "id": "0kEN05RC78h3",
    "outputId": "1b43bd56-a890-427c-ce09-5df50af18ee9"
   },
   "source": [
    "Error between Demodulated Stream and Encoded Stream"
   ]
  },
  {
   "cell_type": "code",
   "execution_count": 16,
   "metadata": {
    "colab": {
     "base_uri": "https://localhost:8080/",
     "height": 35
    },
    "colab_type": "code",
    "id": "4NgrCPHW83P0",
    "outputId": "7494347a-1749-4dec-a922-76bb4eea4b30"
   },
   "outputs": [
    {
     "data": {
      "text/plain": [
       "745.0"
      ]
     },
     "execution_count": 16,
     "metadata": {},
     "output_type": "execute_result"
    }
   ],
   "source": [
    "np.sum(np.abs(DeModulatedStream-EncodedStream))"
   ]
  },
  {
   "cell_type": "markdown",
   "metadata": {
    "colab_type": "text",
    "id": "rZqFJi8KyaZi"
   },
   "source": [
    "## Viterbi Decoding for $\\mu = 2$"
   ]
  },
  {
   "cell_type": "markdown",
   "metadata": {
    "colab_type": "text",
    "id": "eNoMt4xp3ooO"
   },
   "source": [
    "The decoding algorithm uses two metrics: the Branch Metric (BM) and the Path Metric\n",
    "(PM). The branch metric is a measure of the “distance” between what was transmitted and\n",
    "what was received, and is defined for each arc in the trellis. In hard decision decoding,\n",
    "where we are given a sequence of digitized parity bits, the branch metric is the Hamming\n",
    "distance between the expected parity bits and the received ones.\n",
    "\n",
    "The key insight in the Viterbi algorithm is that the receiver can compute the path metric\n",
    "for a (state, time) pair incrementally using the path metrics of previously computed states\n",
    "and the branch metrics.\n",
    "\n",
    "For every s in $2^k$ states, Path Metric at time instant i is calculated as follows:\n",
    "\n",
    "$\\operatorname{PM}[s, i]=\\min (\\operatorname{PM}[\\alpha, i-1]+\\operatorname{BM}[\\alpha \\rightarrow s], \\operatorname{PM}[\\beta, i-1]+\\operatorname{BM}[\\beta \\rightarrow s])$"
   ]
  },
  {
   "cell_type": "code",
   "execution_count": 17,
   "metadata": {
    "colab": {},
    "colab_type": "code",
    "id": "Z5nB8DfO3MGt"
   },
   "outputs": [],
   "source": [
    "def HammingDistance(a,b):\n",
    "    return np.sum(np.square(a-b))"
   ]
  },
  {
   "cell_type": "code",
   "execution_count": 18,
   "metadata": {
    "colab": {},
    "colab_type": "code",
    "id": "42oLe1LQpMA3"
   },
   "outputs": [],
   "source": [
    "def ViterbiDecoder(DeModulatedStream,mu):\n",
    "    # Look-up Table for State Machine\n",
    "    '''\n",
    "    # State Table in Lecture Videos (Type-2)\n",
    "    State_Table = [\n",
    "            [0, 0, [0,0], 0],\n",
    "            [0, 0, [1,1], 1],\n",
    "            [1, 0, [1,0], 2],\n",
    "            [1, 0, [0,1], 3],\n",
    "            [2, 1, [1,1], 0],\n",
    "            [2, 1, [0,0], 1],\n",
    "            [3, 1, [0,1], 2],\n",
    "            [3, 1, [1,0], 3]\n",
    "    ]\n",
    "    '''\n",
    "    \n",
    "    # MIT's State Table (Type-1)\n",
    "    State_Table = [\n",
    "            [0, 0, [0,0], 0],\n",
    "            [0, 0, [1,0], 1],\n",
    "            [1, 0, [1,1], 2],\n",
    "            [1, 0, [0,1], 3],\n",
    "            [2, 1, [1,1], 0],\n",
    "            [2, 1, [0,1], 1],\n",
    "            [3, 1, [0,0], 2],\n",
    "            [3, 1, [1,0], 3]\n",
    "    ]\n",
    "\n",
    "    m = DeModulatedStream.shape[0]\n",
    "    k = pow(2,mu)\n",
    "\n",
    "    # Branch Metric is Hamming Distance.\n",
    "    Path_Metric = np.zeros((k,m+1))\n",
    "    Path_Metric[1:4,0] = 1e6 * np.ones((3,))\n",
    "\n",
    "    # Creating Path Metrics.\n",
    "    for i in range(1,m+1):\n",
    "        for j in range(k):\n",
    "            BM1 = HammingDistance(DeModulatedStream[i-1],State_Table[2*j][2])\n",
    "            BM2 = HammingDistance(DeModulatedStream[i-1],State_Table[2*j + 1][2])\n",
    "            V1 = Path_Metric[State_Table[2*j][3]][i-1] + BM1\n",
    "            V2 = Path_Metric[State_Table[2*j + 1][3]][i-1] + BM2\n",
    "            \n",
    "            Path_Metric[j][i] = min(V1,V2)\n",
    "    \n",
    "    Output = []\n",
    "    \n",
    "    ind = np.argmin(Path_Metric[:,i])    \n",
    "    for i in reversed(range(1,m+1)):\n",
    "        a = State_Table[2*ind][3]\n",
    "        b = State_Table[2*ind + 1][3]\n",
    "        if (Path_Metric[:,i-1][a] <= Path_Metric[:,i-1][b]):\n",
    "            ind_prev = a\n",
    "        else:\n",
    "            ind_prev = b\n",
    "            \n",
    "        for j in range(len(State_Table)):\n",
    "            if (State_Table[j][0] == ind and State_Table[j][3] == ind_prev):\n",
    "                Output.append(State_Table[j][1])\n",
    "        ind = ind_prev\n",
    "                \n",
    "    Output.reverse()\n",
    "    \n",
    "    Output.pop()\n",
    "    Output.pop()\n",
    "    return np.array(Output)"
   ]
  },
  {
   "cell_type": "code",
   "execution_count": 19,
   "metadata": {
    "colab": {
     "base_uri": "https://localhost:8080/",
     "height": 161
    },
    "colab_type": "code",
    "id": "Cn4ZeomJ_B7K",
    "outputId": "77eceba7-0c5d-410c-e006-14d2998f5d0a"
   },
   "outputs": [],
   "source": [
    "DecodedStream = ViterbiDecoder(DeModulatedStream,mu)"
   ]
  },
  {
   "cell_type": "markdown",
   "metadata": {},
   "source": [
    "Calculating Error Bits and Percentage"
   ]
  },
  {
   "cell_type": "code",
   "execution_count": 20,
   "metadata": {},
   "outputs": [
    {
     "data": {
      "text/plain": [
       "61"
      ]
     },
     "execution_count": 20,
     "metadata": {},
     "output_type": "execute_result"
    }
   ],
   "source": [
    "ErrorBits = np.sum(np.abs(DecodedStream - Data.flatten()))\n",
    "ErrorBits"
   ]
  },
  {
   "cell_type": "code",
   "execution_count": 21,
   "metadata": {},
   "outputs": [
    {
     "data": {
      "text/plain": [
       "99.79666666666667"
      ]
     },
     "execution_count": 21,
     "metadata": {},
     "output_type": "execute_result"
    }
   ],
   "source": [
    "Percentage = (1 - ErrorBits/DecodedStream.shape[0]) * 100\n",
    "Percentage"
   ]
  },
  {
   "cell_type": "markdown",
   "metadata": {},
   "source": [
    "## Image\n",
    "\n",
    "Image from Decoded Data"
   ]
  },
  {
   "cell_type": "code",
   "execution_count": 22,
   "metadata": {},
   "outputs": [
    {
     "data": {
      "text/plain": [
       "<matplotlib.image.AxesImage at 0x7f2f1063ff10>"
      ]
     },
     "execution_count": 22,
     "metadata": {},
     "output_type": "execute_result"
    },
    {
     "data": {
      "image/png": "[encoded data removed]",
      "text/plain": [
       "<Figure size 432x288 with 1 Axes>"
      ]
     },
     "metadata": {
      "needs_background": "light"
     },
     "output_type": "display_data"
    }
   ],
   "source": [
    "OutputImage = np.reshape(DecodedStream,Data.shape)\n",
    "plt.imshow(OutputImage,'gray')"
   ]
  },
  {
   "cell_type": "markdown",
   "metadata": {},
   "source": [
    "## BER Plot\n",
    "\n",
    "Plotting No.of Bit Errors vs Variance\n",
    "\n",
    "$N_{0} f_{c} = \\sigma^2$\n"
   ]
  },
  {
   "cell_type": "code",
   "execution_count": 23,
   "metadata": {},
   "outputs": [],
   "source": [
    "# For 1-bit 2 Waveforms\n",
    "Eb = 2*T\n",
    "Eb_per_No = np.linspace(-2,8,10,endpoint=True)\n",
    "No = np.divide(Eb,np.power(10,(Eb_per_No/10)))\n",
    "Variance_List = No*fc\n",
    "\n",
    "BER_List = []\n",
    "\n",
    "EncodedStream = ConvEncoder(Data.flatten(),mu,n)\n",
    "ModulatedStream = PAM2Encoder(EncodedStream)\n",
    "TransmittedStream = Transmission(ModulatedStream,T,fc,N)\n",
    "\n",
    "# Noise is added at the Receiver's End\n",
    "for Variance in Variance_List:\n",
    "    ReceivedStream = ReceivingData(TransmittedStream,Variance)\n",
    "    DeModulatedStream = DeModulation(ReceivedStream,Waveforms)\n",
    "    DecodedStream = ViterbiDecoder(DeModulatedStream,mu)\n",
    "    ErrorBits = np.sum(np.abs(DecodedStream - Data.flatten()))\n",
    "    BER_List.append(ErrorBits/DecodedStream.shape[0])"
   ]
  },
  {
   "cell_type": "code",
   "execution_count": 24,
   "metadata": {},
   "outputs": [
    {
     "data": {
      "image/png": "[encoded data removed]",
      "text/plain": [
       "<Figure size 432x432 with 1 Axes>"
      ]
     },
     "metadata": {
      "needs_background": "light"
     },
     "output_type": "display_data"
    }
   ],
   "source": [
    "plt.figure(figsize=(6,6))\n",
    "plt.semilogy(Eb_per_No,BER_List)\n",
    "plt.title(r'BER vs $\\frac{E_{b}}{N_{0}}$')\n",
    "plt.xlabel(r'$10\\log(\\frac{E_{b}}{N_{0}})$')\n",
    "plt.ylabel(r'BER')\n",
    "plt.grid(axis='both')\n",
    "plt.scatter(Eb_per_No,BER_List)\n",
    "plt.savefig('./Images/BER_Type-1.png')\n",
    "plt.show()"
   ]
  }
 ],
 "metadata": {
  "colab": {
   "collapsed_sections": [],
   "name": "Convolutional Codes.ipynb",
   "provenance": []
  },
  "kernelspec": {
   "display_name": "Python 3",
   "language": "python",
   "name": "python3"
  },
  "language_info": {
   "codemirror_mode": {
    "name": "ipython",
    "version": 3
   },
   "file_extension": ".py",
   "mimetype": "text/x-python",
   "name": "python",
   "nbconvert_exporter": "python",
   "pygments_lexer": "ipython3",
   "version": "3.8.5"
  }
 },
 "nbformat": 4,
 "nbformat_minor": 4
}
